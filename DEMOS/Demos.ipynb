{
 "cells": [
  {
   "cell_type": "code",
   "execution_count": 1,
   "id": "a0c72187",
   "metadata": {},
   "outputs": [],
   "source": [
    "import numpy as np"
   ]
  },
  {
   "cell_type": "code",
   "execution_count": 2,
   "id": "b0ed4eb1",
   "metadata": {},
   "outputs": [
    {
     "name": "stdout",
     "output_type": "stream",
     "text": [
      "[[0 0 1 0 0 0]\n",
      " [0 0 1 0 0 1]\n",
      " [0 1 1 0 0 0]\n",
      " [0 0 0 1 1 0]\n",
      " [0 0 0 0 1 0]\n",
      " [0 0 1 0 0 0]\n",
      " [0 0 0 0 0 0]\n",
      " [0 0 1 1 1 0]\n",
      " [0 0 0 0 0 0]\n",
      " [0 0 0 1 1 1]]\n"
     ]
    }
   ],
   "source": [
    "# initial population: 10 arrays of 6 bits, random initialization\n",
    "pop_size = 10\n",
    "arr_size = 6\n",
    "pop = np.random.choice([0, 1], size=(pop_size, arr_size), p=[0.7, 0.3])\n",
    "print(pop)"
   ]
  },
  {
   "cell_type": "code",
   "execution_count": 3,
   "id": "78626a7c",
   "metadata": {},
   "outputs": [
    {
     "name": "stdout",
     "output_type": "stream",
     "text": [
      "[0 0 1 0 0 0], Fitness: 1\n",
      "[0 0 1 0 0 1], Fitness: 2\n",
      "[0 1 1 0 0 0], Fitness: 2\n",
      "[0 0 0 1 1 0], Fitness: 2\n",
      "[0 0 0 0 1 0], Fitness: 1\n",
      "[0 0 1 0 0 0], Fitness: 1\n",
      "[0 0 0 0 0 0], Fitness: 0\n",
      "[0 0 1 1 1 0], Fitness: 3\n",
      "[0 0 0 0 0 0], Fitness: 0\n",
      "[0 0 0 1 1 1], Fitness: 3\n"
     ]
    }
   ],
   "source": [
    "# fitness function\n",
    "def fitness(arr):\n",
    "    return arr.sum(axis=1)\n",
    "for f, a in zip(fitness(pop), pop):\n",
    "    print(f'{a}, Fitness: {f}')"
   ]
  },
  {
   "cell_type": "code",
   "execution_count": 4,
   "id": "5249761c",
   "metadata": {},
   "outputs": [
    {
     "name": "stdout",
     "output_type": "stream",
     "text": [
      "[[0 0 0 1 1 1]\n",
      " [0 0 1 1 1 0]\n",
      " [0 0 0 1 1 0]\n",
      " [0 1 1 0 0 0]\n",
      " [0 0 1 0 0 1]]\n"
     ]
    }
   ],
   "source": [
    "# selection: take in population and return best proportion of population\n",
    "def selection(arr, prop=0.5):\n",
    "    return arr[np.argsort(fitness(arr))][int(arr.shape[0]*prop):][::-1]\n",
    "sel = selection(pop)\n",
    "print(sel)"
   ]
  },
  {
   "cell_type": "code",
   "execution_count": 5,
   "id": "ebec0bb5",
   "metadata": {},
   "outputs": [
    {
     "name": "stdout",
     "output_type": "stream",
     "text": [
      "[[0 0 0 0 1 1]\n",
      " [0 1 1 1 0 0]\n",
      " [0 0 0 1 1 0]\n",
      " [0 0 1 0 1 0]\n",
      " [0 0 1 1 0 1]]\n"
     ]
    }
   ],
   "source": [
    "# crossover: make offspring with random parent selection\n",
    "# if array of odd len is given, one agent isnt changed\n",
    "def crossover(arr):\n",
    "    idxs = list(range(0, arr.shape[0]))\n",
    "    while len(idxs) > 1:\n",
    "        p1_idx = np.random.choice(idxs)\n",
    "        idxs.remove(p1_idx)\n",
    "        p2_idx = np.random.choice(idxs)\n",
    "        idxs.remove(p2_idx)\n",
    "        for i in range(arr.shape[1]):\n",
    "            swap = np.random.choice([True, False])\n",
    "            if swap:\n",
    "                temp = arr[p1_idx, i]\n",
    "                arr[p1_idx, i] = arr[p2_idx, i]\n",
    "                arr[p2_idx, i] = temp\n",
    "    return arr\n",
    "        \n",
    "cross = crossover(selection(pop))\n",
    "print(cross)"
   ]
  },
  {
   "cell_type": "code",
   "execution_count": 6,
   "id": "84f582ad",
   "metadata": {},
   "outputs": [
    {
     "name": "stdout",
     "output_type": "stream",
     "text": [
      "[[0 0 0 0 1 1]\n",
      " [0 1 1 1 0 0]\n",
      " [0 0 0 1 1 0]\n",
      " [0 0 1 0 1 0]\n",
      " [0 0 1 1 0 1]\n",
      " [0 1 0 1 0 0]\n",
      " [0 0 1 0 1 0]\n",
      " [0 0 0 0 1 0]\n",
      " [0 0 0 1 0 1]\n",
      " [0 1 1 1 0 0]]\n"
     ]
    }
   ],
   "source": [
    "# mutation and replication: resize and mutate elements of\n",
    "# arr to make specified size\n",
    "def mutate(arr, resize=pop_size, mutate_proba=0.05):\n",
    "    new_arr = np.zeros((pop_size-arr.shape[0], arr.shape[1]), dtype=int)\n",
    "    for i in range(new_arr.shape[0]):\n",
    "        new_arr[i] = arr[np.random.choice(list(range(arr.shape[0])))]\n",
    "        # mutate\n",
    "        mutate = np.random.choice([True, False], size=new_arr.shape[1], p=[mutate_proba, 1-mutate_proba])\n",
    "        flip = [1, 0]\n",
    "        for m in range(mutate.shape[0]):\n",
    "            if mutate[m]:\n",
    "                new_arr[i, m] = flip[int(new_arr[i, m])]\n",
    "    return np.concatenate((arr, new_arr))\n",
    "print(mutate(cross))"
   ]
  },
  {
   "cell_type": "code",
   "execution_count": 7,
   "id": "33e00536",
   "metadata": {},
   "outputs": [
    {
     "data": {
      "text/plain": [
       "array([[0, 0, 0, 0, 0, 0],\n",
       "       [1, 0, 0, 0, 1, 0],\n",
       "       [1, 1, 1, 1, 0, 0],\n",
       "       [0, 0, 0, 0, 1, 0],\n",
       "       [0, 1, 0, 0, 0, 0],\n",
       "       [0, 0, 0, 0, 0, 0],\n",
       "       [0, 1, 1, 0, 1, 1],\n",
       "       [0, 0, 1, 0, 0, 0],\n",
       "       [0, 0, 0, 1, 0, 0],\n",
       "       [1, 0, 1, 0, 0, 0]])"
      ]
     },
     "execution_count": 7,
     "metadata": {},
     "output_type": "execute_result"
    }
   ],
   "source": [
    "# pop generation function\n",
    "def generate_pop(p_size=pop_size, a_size=arr_size):\n",
    "    return np.random.choice([0, 1], size=(p_size, a_size), p=[0.7, 0.3])\n",
    "pop = generate_pop()\n",
    "pop"
   ]
  },
  {
   "cell_type": "code",
   "execution_count": 8,
   "id": "4a9d28c6",
   "metadata": {},
   "outputs": [
    {
     "name": "stdout",
     "output_type": "stream",
     "text": [
      "Initial Population:\n",
      "[[1 0 1 0 0 1]\n",
      " [1 1 0 0 0 0]\n",
      " [1 0 1 0 1 0]\n",
      " [1 0 0 0 0 0]\n",
      " [0 0 0 0 1 0]\n",
      " [0 0 1 0 0 1]\n",
      " [1 0 1 1 1 1]\n",
      " [0 0 1 0 0 0]\n",
      " [0 1 1 0 0 1]\n",
      " [0 1 1 1 1 0]]\n",
      "Generation 0: Best Sum: 5, arr: [1 0 1 1 1 1]\n",
      "Generation 1: Best Sum: 4, arr: [0 1 1 1 1 0]\n",
      "Generation 2: Best Sum: 4, arr: [1 0 1 0 1 1]\n",
      "Generation 3: Best Sum: 4, arr: [1 0 1 0 1 1]\n",
      "Generation 4: Best Sum: 5, arr: [1 0 1 1 1 1]\n",
      "Generation 5: Best Sum: 5, arr: [1 0 1 1 1 1]\n",
      "Generation 6: Best Sum: 5, arr: [1 0 1 1 1 1]\n",
      "Generation 7: Best Sum: 5, arr: [1 0 1 1 1 1]\n",
      "Generation 8: Best Sum: 5, arr: [1 0 1 1 1 1]\n",
      "Generation 9: Best Sum: 5, arr: [1 0 1 1 1 1]\n",
      "Generation 10: Best Sum: 6, arr: [1 1 1 1 1 1]\n"
     ]
    }
   ],
   "source": [
    "# natural selection loop:\n",
    "# initial population:\n",
    "population = generate_pop()\n",
    "print('Initial Population:')\n",
    "print(population)\n",
    "# when best_value = arr_size loop is terminated\n",
    "best_value = 0\n",
    "i = 0\n",
    "while best_value < pop.shape[1]:    \n",
    "    # select best agents\n",
    "    sel = selection(population)\n",
    "    \n",
    "    # find best score\n",
    "    best = sel[0]\n",
    "    print(f'Generation {i}: Best Sum: {best.sum()}, arr: {best}')\n",
    "    # if best terminate\n",
    "    if best.sum() == pop.shape[1]:\n",
    "        break\n",
    "        \n",
    "    # breed\n",
    "    breed = crossover(sel)\n",
    "    # mutate and assign to population\n",
    "    population = mutate(breed)\n",
    "    \n",
    "    i += 1"
   ]
  },
  {
   "cell_type": "code",
   "execution_count": 9,
   "id": "efa1ee2c",
   "metadata": {},
   "outputs": [
    {
     "data": {
      "text/plain": [
       "[[1, 0, 1, 1, 1, 1],\n",
       " [1, 0, 1, 1, 1, 1],\n",
       " [1, 0, 1, 1, 1, 1],\n",
       " [1, 0, 1, 1, 1, 1],\n",
       " [1, 0, 1, 1, 1, 1],\n",
       " [1, 0, 1, 1, 1, 0],\n",
       " [1, 1, 1, 1, 1, 1],\n",
       " [1, 0, 1, 1, 1, 0],\n",
       " [1, 0, 1, 1, 1, 0],\n",
       " [1, 0, 1, 1, 1, 1]]"
      ]
     },
     "execution_count": 9,
     "metadata": {},
     "output_type": "execute_result"
    }
   ],
   "source": [
    "list(map(list, population))"
   ]
  },
  {
   "cell_type": "code",
   "execution_count": 40,
   "id": "e9dee95e",
   "metadata": {
    "scrolled": true
   },
   "outputs": [
    {
     "data": {
      "text/plain": [
       "{'init_pop': [[0, 0, 1, 0, 0, 0, 1, 0, 0, 0],\n",
       "  [1, 0, 0, 0, 0, 0, 1, 1, 0, 1],\n",
       "  [0, 0, 0, 0, 0, 0, 0, 0, 1, 0],\n",
       "  [0, 0, 0, 0, 1, 1, 0, 0, 1, 0],\n",
       "  [1, 1, 0, 1, 0, 0, 1, 0, 0, 0],\n",
       "  [0, 1, 0, 1, 0, 0, 0, 0, 1, 0],\n",
       "  [0, 0, 0, 1, 0, 0, 0, 1, 0, 0],\n",
       "  [0, 0, 0, 0, 0, 1, 1, 1, 0, 1],\n",
       "  [1, 0, 1, 1, 0, 0, 1, 0, 0, 0],\n",
       "  [1, 0, 0, 0, 0, 1, 0, 0, 0, 1],\n",
       "  [0, 1, 1, 0, 1, 0, 0, 1, 0, 1],\n",
       "  [1, 1, 0, 1, 1, 0, 0, 0, 0, 0],\n",
       "  [0, 0, 1, 0, 1, 0, 0, 0, 0, 1],\n",
       "  [0, 1, 0, 1, 0, 0, 0, 0, 1, 0],\n",
       "  [0, 0, 0, 0, 1, 0, 0, 1, 0, 1],\n",
       "  [0, 1, 0, 1, 0, 0, 1, 0, 0, 1],\n",
       "  [0, 0, 1, 1, 1, 0, 0, 0, 0, 1],\n",
       "  [0, 0, 1, 0, 1, 1, 1, 0, 1, 0],\n",
       "  [0, 1, 0, 0, 0, 0, 0, 0, 0, 0],\n",
       "  [0, 0, 0, 0, 0, 1, 0, 0, 1, 0]],\n",
       " 'gen_nums': [0, 1, 2, 3, 4, 5, 6, 7, 8, 9, 10, 11, 12, 13, 14, 15, 16, 17],\n",
       " 'best_sums': [5, 5, 5, 5, 6, 6, 7, 8, 8, 9, 9, 9, 9, 9, 9, 9, 9, 10],\n",
       " 'best_arrs': [[0, 0, 1, 0, 1, 1, 1, 0, 1, 0],\n",
       "  [1, 0, 1, 1, 0, 1, 1, 0, 0, 0],\n",
       "  [0, 0, 1, 1, 1, 0, 1, 0, 0, 1],\n",
       "  [0, 0, 1, 1, 1, 0, 1, 0, 0, 1],\n",
       "  [0, 0, 1, 1, 1, 1, 1, 1, 0, 0],\n",
       "  [0, 1, 0, 1, 1, 1, 1, 1, 0, 0],\n",
       "  [0, 1, 1, 1, 1, 1, 1, 1, 0, 0],\n",
       "  [1, 1, 1, 1, 1, 1, 1, 1, 0, 0],\n",
       "  [1, 1, 1, 1, 1, 1, 1, 1, 0, 0],\n",
       "  [1, 1, 1, 1, 1, 1, 1, 1, 1, 0],\n",
       "  [1, 1, 1, 1, 1, 1, 1, 1, 1, 0],\n",
       "  [1, 1, 1, 1, 1, 1, 1, 1, 1, 0],\n",
       "  [1, 1, 1, 1, 1, 1, 1, 1, 1, 0],\n",
       "  [1, 1, 1, 1, 1, 1, 1, 1, 1, 0],\n",
       "  [1, 1, 1, 1, 1, 1, 1, 1, 1, 0],\n",
       "  [1, 1, 1, 1, 1, 1, 1, 1, 1, 0],\n",
       "  [1, 1, 1, 1, 1, 1, 1, 1, 1, 0],\n",
       "  [1, 1, 1, 1, 1, 1, 1, 1, 1, 1]]}"
      ]
     },
     "execution_count": 40,
     "metadata": {},
     "output_type": "execute_result"
    }
   ],
   "source": [
    "# paramaterize process\n",
    "# parameters: bits, pop size, selection proportion, mutate proba\n",
    "# generate: dict with keys of initial population, generation num, best sum, and best arr (list with elems per gen)\n",
    "def results(bits, po_size, sel_prop, mutate_proba):\n",
    "    \n",
    "    population = generate_pop(p_size=po_size, a_size=bits)\n",
    "    poop = list(map(list, population))\n",
    "    poop = [[int(p) for p in po] for po in population]\n",
    "    results_dict = {'init_pop': poop}\n",
    "    gen_nums = []\n",
    "    best_sums = []\n",
    "    best_arrs = []\n",
    "    best_value = 0\n",
    "    i = 0\n",
    "    while best_value < population.shape[1]:    \n",
    "        # select best agents\n",
    "        sel = selection(population)\n",
    "        \n",
    "        # find best score\n",
    "        best = sel[0]\n",
    "        gen_nums.append(i)\n",
    "        best_sums.append(int(best.sum()))\n",
    "        best_arrs.append(list([int(b) for b in best]))\n",
    "        # print(f'Generation {i}: Best Sum: {best.sum()}, arr: {best}')\n",
    "        # if best terminate\n",
    "        if best.sum() == population.shape[1]:\n",
    "            break\n",
    "\n",
    "        # breed\n",
    "        breed = crossover(sel)\n",
    "        # mutate and assign to population\n",
    "        population = mutate(breed)\n",
    "\n",
    "        i += 1\n",
    "    results_dict['gen_nums'] = gen_nums\n",
    "    results_dict['best_sums'] = best_sums\n",
    "    results_dict['best_arrs'] = best_arrs\n",
    "    return results_dict\n",
    "\n",
    "results(10, 20, 1, 0.05)"
   ]
  },
  {
   "cell_type": "code",
   "execution_count": 11,
   "id": "3887834c",
   "metadata": {},
   "outputs": [],
   "source": [
    "# presets\n",
    "# standard preset 6 bits, 10 size, \n",
    "# bigger preset: 10 bits 20 pop standard probabilities\n",
    "# low selection: 10 20 but 0.1 selection prop\n",
    "# low population: 10 bits 3 population 0.5 selection 0.05 mutation\n",
    "# high mutation 10 20 0.5 0.4 mutation\n"
   ]
  },
  {
   "cell_type": "code",
   "execution_count": 12,
   "id": "f50619e7",
   "metadata": {},
   "outputs": [],
   "source": [
    "import json"
   ]
  },
  {
   "cell_type": "code",
   "execution_count": 47,
   "id": "b9b39309",
   "metadata": {
    "scrolled": true
   },
   "outputs": [
    {
     "data": {
      "text/plain": [
       "{'init_pop': [[1, 0, 0, 0, 0, 0],\n",
       "  [0, 1, 0, 0, 0, 0],\n",
       "  [1, 0, 0, 0, 1, 0],\n",
       "  [0, 0, 0, 1, 0, 1],\n",
       "  [0, 0, 0, 0, 0, 0],\n",
       "  [1, 0, 0, 0, 0, 1],\n",
       "  [0, 0, 0, 0, 0, 1],\n",
       "  [0, 0, 1, 0, 1, 0],\n",
       "  [1, 0, 1, 1, 0, 0],\n",
       "  [0, 0, 0, 0, 0, 1]],\n",
       " 'gen_nums': [0, 1, 2, 3, 4, 5, 6, 7, 8],\n",
       " 'best_sums': [3, 3, 3, 4, 4, 5, 5, 5, 6],\n",
       " 'best_arrs': [[1, 0, 1, 1, 0, 0],\n",
       "  [1, 0, 1, 0, 1, 0],\n",
       "  [1, 0, 0, 1, 0, 1],\n",
       "  [1, 0, 1, 1, 1, 0],\n",
       "  [1, 0, 1, 1, 0, 1],\n",
       "  [1, 0, 1, 1, 1, 1],\n",
       "  [1, 0, 1, 1, 1, 1],\n",
       "  [1, 0, 1, 1, 1, 1],\n",
       "  [1, 1, 1, 1, 1, 1]]}"
      ]
     },
     "execution_count": 47,
     "metadata": {},
     "output_type": "execute_result"
    }
   ],
   "source": [
    "standard = results(6, 10, 0.5, 0.05)\n",
    "standard"
   ]
  },
  {
   "cell_type": "code",
   "execution_count": 48,
   "id": "7739952c",
   "metadata": {
    "scrolled": true
   },
   "outputs": [
    {
     "data": {
      "text/plain": [
       "{'init_pop': [[1, 0, 1, 0, 1, 0, 1, 0, 0, 0],\n",
       "  [1, 0, 1, 0, 0, 0, 0, 1, 0, 0],\n",
       "  [0, 1, 0, 0, 1, 0, 0, 0, 0, 0],\n",
       "  [1, 0, 0, 0, 0, 0, 1, 0, 0, 0],\n",
       "  [0, 0, 1, 0, 1, 0, 0, 1, 0, 1],\n",
       "  [1, 0, 0, 1, 0, 1, 1, 1, 0, 0],\n",
       "  [1, 1, 1, 0, 0, 1, 0, 0, 0, 1],\n",
       "  [0, 1, 1, 0, 1, 1, 0, 1, 0, 1],\n",
       "  [0, 0, 0, 0, 0, 0, 0, 0, 0, 0],\n",
       "  [0, 0, 1, 0, 1, 0, 0, 0, 0, 0],\n",
       "  [1, 0, 1, 0, 0, 0, 1, 0, 1, 0],\n",
       "  [0, 1, 0, 0, 0, 1, 1, 0, 1, 0],\n",
       "  [1, 0, 0, 0, 1, 0, 0, 1, 0, 0],\n",
       "  [1, 0, 0, 0, 0, 1, 0, 0, 0, 0],\n",
       "  [1, 0, 0, 0, 0, 0, 1, 0, 0, 1],\n",
       "  [0, 1, 0, 0, 1, 0, 1, 1, 1, 0],\n",
       "  [0, 1, 0, 0, 0, 0, 0, 1, 1, 1],\n",
       "  [1, 0, 1, 1, 0, 0, 0, 0, 0, 0],\n",
       "  [0, 0, 0, 0, 0, 0, 0, 0, 0, 1],\n",
       "  [1, 1, 0, 1, 1, 0, 0, 0, 1, 1]],\n",
       " 'gen_nums': [0, 1, 2, 3, 4, 5, 6, 7, 8, 9, 10],\n",
       " 'best_sums': [6, 7, 7, 7, 7, 8, 8, 8, 9, 9, 10],\n",
       " 'best_arrs': [[1, 1, 0, 1, 1, 0, 0, 0, 1, 1],\n",
       "  [1, 1, 1, 1, 0, 1, 0, 0, 1, 1],\n",
       "  [1, 1, 1, 0, 0, 1, 0, 1, 1, 1],\n",
       "  [1, 0, 1, 0, 1, 1, 1, 0, 1, 1],\n",
       "  [1, 1, 1, 1, 0, 1, 0, 0, 1, 1],\n",
       "  [1, 1, 1, 1, 1, 1, 0, 0, 1, 1],\n",
       "  [1, 1, 1, 0, 1, 1, 1, 0, 1, 1],\n",
       "  [1, 1, 1, 0, 1, 1, 1, 0, 1, 1],\n",
       "  [1, 1, 1, 1, 1, 1, 1, 0, 1, 1],\n",
       "  [1, 1, 1, 1, 1, 1, 1, 0, 1, 1],\n",
       "  [1, 1, 1, 1, 1, 1, 1, 1, 1, 1]]}"
      ]
     },
     "execution_count": 48,
     "metadata": {},
     "output_type": "execute_result"
    }
   ],
   "source": [
    "bigger = results(10, 20, 0.5, 0.05)\n",
    "bigger"
   ]
  },
  {
   "cell_type": "code",
   "execution_count": 52,
   "id": "e20f064f",
   "metadata": {
    "scrolled": true
   },
   "outputs": [
    {
     "data": {
      "text/plain": [
       "{'init_pop': [[0, 0, 0, 0, 0, 0, 1, 0, 0, 0],\n",
       "  [0, 0, 1, 0, 0, 1, 0, 0, 1, 0],\n",
       "  [1, 0, 0, 1, 0, 1, 0, 0, 1, 0],\n",
       "  [0, 0, 0, 1, 0, 1, 0, 0, 0, 1],\n",
       "  [0, 1, 1, 0, 1, 1, 0, 0, 0, 1],\n",
       "  [1, 0, 0, 0, 0, 0, 1, 0, 0, 0],\n",
       "  [0, 0, 1, 0, 0, 1, 0, 0, 1, 0],\n",
       "  [1, 0, 0, 0, 1, 0, 0, 1, 0, 0],\n",
       "  [0, 0, 0, 0, 1, 0, 1, 0, 0, 1],\n",
       "  [0, 0, 0, 0, 0, 0, 0, 0, 0, 0],\n",
       "  [1, 1, 1, 0, 0, 0, 0, 1, 0, 0],\n",
       "  [0, 0, 1, 0, 0, 1, 1, 0, 1, 0],\n",
       "  [0, 0, 0, 1, 1, 1, 0, 1, 0, 0],\n",
       "  [1, 0, 0, 0, 0, 0, 0, 0, 0, 0],\n",
       "  [0, 1, 0, 0, 0, 0, 0, 0, 1, 1],\n",
       "  [1, 0, 0, 0, 0, 0, 0, 0, 0, 1],\n",
       "  [0, 0, 1, 0, 0, 0, 0, 0, 0, 1],\n",
       "  [0, 0, 0, 0, 0, 1, 1, 1, 1, 0],\n",
       "  [0, 0, 0, 0, 0, 0, 0, 0, 0, 0],\n",
       "  [0, 1, 1, 1, 0, 0, 0, 0, 0, 1]],\n",
       " 'gen_nums': [0, 1, 2, 3, 4, 5, 6, 7, 8, 9, 10, 11, 12, 13, 14, 15, 16],\n",
       " 'best_sums': [5, 5, 7, 8, 8, 9, 9, 9, 9, 9, 9, 9, 9, 9, 9, 9, 10],\n",
       " 'best_arrs': [[0, 1, 1, 0, 1, 1, 0, 0, 0, 1],\n",
       "  [0, 1, 1, 1, 0, 1, 0, 0, 0, 1],\n",
       "  [1, 0, 1, 1, 0, 1, 1, 1, 0, 1],\n",
       "  [1, 0, 1, 1, 1, 1, 1, 1, 0, 1],\n",
       "  [0, 1, 1, 1, 1, 1, 1, 1, 0, 1],\n",
       "  [1, 1, 1, 1, 1, 1, 1, 1, 0, 1],\n",
       "  [1, 1, 1, 1, 1, 1, 1, 1, 0, 1],\n",
       "  [1, 1, 1, 1, 1, 1, 1, 1, 0, 1],\n",
       "  [1, 1, 1, 1, 1, 1, 1, 1, 0, 1],\n",
       "  [1, 1, 1, 1, 1, 1, 1, 1, 0, 1],\n",
       "  [1, 1, 1, 1, 1, 1, 1, 1, 0, 1],\n",
       "  [1, 1, 1, 1, 1, 1, 1, 1, 0, 1],\n",
       "  [1, 1, 1, 1, 1, 1, 1, 1, 0, 1],\n",
       "  [1, 1, 1, 1, 1, 1, 1, 1, 0, 1],\n",
       "  [1, 1, 1, 1, 1, 1, 1, 1, 0, 1],\n",
       "  [1, 1, 1, 1, 1, 1, 1, 1, 0, 1],\n",
       "  [1, 1, 1, 1, 1, 1, 1, 1, 1, 1]]}"
      ]
     },
     "execution_count": 52,
     "metadata": {},
     "output_type": "execute_result"
    }
   ],
   "source": [
    "low_sel = results(10, 20, 0.1, 0.05)\n",
    "low_sel"
   ]
  },
  {
   "cell_type": "code",
   "execution_count": 54,
   "id": "c3e59c18",
   "metadata": {
    "scrolled": true
   },
   "outputs": [
    {
     "data": {
      "text/plain": [
       "{'init_pop': [[1, 0, 0, 1, 1, 0, 0, 0, 0, 0],\n",
       "  [0, 0, 0, 0, 1, 0, 0, 0, 1, 0],\n",
       "  [0, 0, 0, 1, 0, 0, 0, 0, 0, 1]],\n",
       " 'gen_nums': [0,\n",
       "  1,\n",
       "  2,\n",
       "  3,\n",
       "  4,\n",
       "  5,\n",
       "  6,\n",
       "  7,\n",
       "  8,\n",
       "  9,\n",
       "  10,\n",
       "  11,\n",
       "  12,\n",
       "  13,\n",
       "  14,\n",
       "  15,\n",
       "  16,\n",
       "  17,\n",
       "  18,\n",
       "  19,\n",
       "  20,\n",
       "  21,\n",
       "  22],\n",
       " 'best_sums': [3,\n",
       "  4,\n",
       "  4,\n",
       "  5,\n",
       "  5,\n",
       "  5,\n",
       "  6,\n",
       "  6,\n",
       "  7,\n",
       "  7,\n",
       "  8,\n",
       "  8,\n",
       "  8,\n",
       "  8,\n",
       "  8,\n",
       "  8,\n",
       "  8,\n",
       "  8,\n",
       "  8,\n",
       "  8,\n",
       "  9,\n",
       "  9,\n",
       "  10],\n",
       " 'best_arrs': [[1, 0, 0, 1, 1, 0, 0, 0, 0, 0],\n",
       "  [0, 1, 0, 1, 1, 0, 1, 0, 0, 0],\n",
       "  [1, 0, 0, 1, 0, 0, 0, 1, 0, 1],\n",
       "  [1, 0, 0, 1, 1, 0, 0, 1, 0, 1],\n",
       "  [1, 0, 0, 1, 1, 0, 1, 0, 0, 1],\n",
       "  [1, 0, 0, 1, 1, 0, 1, 0, 0, 1],\n",
       "  [1, 0, 0, 1, 1, 0, 1, 1, 0, 1],\n",
       "  [1, 0, 0, 1, 1, 0, 1, 1, 0, 1],\n",
       "  [1, 0, 1, 1, 1, 0, 1, 1, 0, 1],\n",
       "  [1, 0, 1, 1, 1, 0, 1, 1, 0, 1],\n",
       "  [1, 0, 1, 1, 1, 1, 1, 1, 0, 1],\n",
       "  [1, 0, 1, 1, 1, 1, 1, 1, 0, 1],\n",
       "  [1, 0, 1, 1, 1, 1, 1, 1, 0, 1],\n",
       "  [1, 0, 1, 1, 1, 1, 1, 1, 0, 1],\n",
       "  [1, 0, 1, 1, 1, 1, 1, 1, 0, 1],\n",
       "  [1, 0, 1, 1, 1, 1, 1, 1, 0, 1],\n",
       "  [1, 0, 1, 1, 1, 1, 1, 1, 0, 1],\n",
       "  [1, 0, 1, 1, 1, 1, 1, 1, 0, 1],\n",
       "  [1, 0, 1, 1, 1, 1, 1, 1, 0, 1],\n",
       "  [1, 0, 1, 1, 1, 1, 1, 1, 0, 1],\n",
       "  [1, 0, 1, 1, 1, 1, 1, 1, 1, 1],\n",
       "  [1, 1, 1, 0, 1, 1, 1, 1, 1, 1],\n",
       "  [1, 1, 1, 1, 1, 1, 1, 1, 1, 1]]}"
      ]
     },
     "execution_count": 54,
     "metadata": {},
     "output_type": "execute_result"
    }
   ],
   "source": [
    "low_pop = results(10, 3, 0.5, 0.05)\n",
    "low_pop"
   ]
  },
  {
   "cell_type": "code",
   "execution_count": 58,
   "id": "2804f001",
   "metadata": {
    "scrolled": true
   },
   "outputs": [
    {
     "data": {
      "text/plain": [
       "{'init_pop': [[0, 1, 0, 0, 0, 0, 0, 1, 0, 0],\n",
       "  [0, 0, 1, 0, 0, 0, 0, 1, 1, 1],\n",
       "  [0, 0, 0, 1, 1, 0, 0, 1, 0, 0],\n",
       "  [0, 0, 0, 0, 1, 0, 1, 0, 0, 1],\n",
       "  [0, 1, 1, 1, 1, 0, 1, 1, 1, 1],\n",
       "  [1, 0, 0, 1, 0, 0, 0, 1, 0, 0],\n",
       "  [0, 0, 0, 0, 0, 0, 0, 0, 0, 0],\n",
       "  [0, 0, 1, 1, 1, 0, 1, 0, 0, 1],\n",
       "  [1, 0, 0, 0, 0, 0, 0, 0, 0, 0],\n",
       "  [0, 0, 0, 0, 0, 0, 0, 0, 1, 0],\n",
       "  [0, 1, 1, 0, 0, 1, 1, 0, 0, 1],\n",
       "  [0, 1, 1, 0, 0, 0, 0, 0, 0, 0],\n",
       "  [0, 0, 0, 0, 1, 0, 0, 0, 0, 0],\n",
       "  [0, 1, 1, 1, 1, 1, 1, 0, 0, 0],\n",
       "  [0, 0, 0, 1, 0, 0, 0, 1, 0, 0],\n",
       "  [1, 0, 1, 0, 0, 0, 0, 0, 1, 0],\n",
       "  [0, 0, 1, 1, 0, 0, 0, 0, 0, 0],\n",
       "  [0, 0, 0, 0, 0, 1, 1, 1, 0, 1],\n",
       "  [0, 0, 1, 0, 0, 1, 0, 0, 1, 1],\n",
       "  [0, 0, 1, 0, 0, 0, 0, 0, 0, 0]],\n",
       " 'gen_nums': [0, 1, 2, 3, 4, 5, 6, 7, 8, 9, 10, 11, 12, 13],\n",
       " 'best_sums': [8, 6, 6, 8, 8, 8, 8, 9, 9, 9, 9, 9, 9, 10],\n",
       " 'best_arrs': [[0, 1, 1, 1, 1, 0, 1, 1, 1, 1],\n",
       "  [0, 0, 1, 0, 1, 0, 1, 1, 1, 1],\n",
       "  [0, 0, 1, 1, 1, 1, 0, 1, 0, 1],\n",
       "  [0, 1, 1, 1, 1, 1, 0, 1, 1, 1],\n",
       "  [0, 1, 1, 1, 1, 1, 0, 1, 1, 1],\n",
       "  [0, 0, 1, 1, 1, 1, 1, 1, 1, 1],\n",
       "  [0, 0, 1, 1, 1, 1, 1, 1, 1, 1],\n",
       "  [0, 1, 1, 1, 1, 1, 1, 1, 1, 1],\n",
       "  [0, 1, 1, 1, 1, 1, 1, 1, 1, 1],\n",
       "  [0, 1, 1, 1, 1, 1, 1, 1, 1, 1],\n",
       "  [0, 1, 1, 1, 1, 1, 1, 1, 1, 1],\n",
       "  [1, 1, 1, 1, 1, 1, 0, 1, 1, 1],\n",
       "  [1, 1, 1, 1, 1, 1, 0, 1, 1, 1],\n",
       "  [1, 1, 1, 1, 1, 1, 1, 1, 1, 1]]}"
      ]
     },
     "execution_count": 58,
     "metadata": {},
     "output_type": "execute_result"
    }
   ],
   "source": [
    "mut = results(10, 20, 0.5, 0.4)\n",
    "mut"
   ]
  },
  {
   "cell_type": "code",
   "execution_count": 59,
   "id": "46ae36b8",
   "metadata": {},
   "outputs": [],
   "source": [
    "obj = {'standard': standard, 'bigger': bigger,  'low_sel': low_sel, 'low_pop': low_pop, 'mut': mut}"
   ]
  },
  {
   "cell_type": "code",
   "execution_count": 60,
   "id": "59d54946",
   "metadata": {},
   "outputs": [
    {
     "data": {
      "text/plain": [
       "{'standard': {'init_pop': [[1, 0, 0, 0, 0, 0],\n",
       "   [0, 1, 0, 0, 0, 0],\n",
       "   [1, 0, 0, 0, 1, 0],\n",
       "   [0, 0, 0, 1, 0, 1],\n",
       "   [0, 0, 0, 0, 0, 0],\n",
       "   [1, 0, 0, 0, 0, 1],\n",
       "   [0, 0, 0, 0, 0, 1],\n",
       "   [0, 0, 1, 0, 1, 0],\n",
       "   [1, 0, 1, 1, 0, 0],\n",
       "   [0, 0, 0, 0, 0, 1]],\n",
       "  'gen_nums': [0, 1, 2, 3, 4, 5, 6, 7, 8],\n",
       "  'best_sums': [3, 3, 3, 4, 4, 5, 5, 5, 6],\n",
       "  'best_arrs': [[1, 0, 1, 1, 0, 0],\n",
       "   [1, 0, 1, 0, 1, 0],\n",
       "   [1, 0, 0, 1, 0, 1],\n",
       "   [1, 0, 1, 1, 1, 0],\n",
       "   [1, 0, 1, 1, 0, 1],\n",
       "   [1, 0, 1, 1, 1, 1],\n",
       "   [1, 0, 1, 1, 1, 1],\n",
       "   [1, 0, 1, 1, 1, 1],\n",
       "   [1, 1, 1, 1, 1, 1]]},\n",
       " 'bigger': {'init_pop': [[1, 0, 1, 0, 1, 0, 1, 0, 0, 0],\n",
       "   [1, 0, 1, 0, 0, 0, 0, 1, 0, 0],\n",
       "   [0, 1, 0, 0, 1, 0, 0, 0, 0, 0],\n",
       "   [1, 0, 0, 0, 0, 0, 1, 0, 0, 0],\n",
       "   [0, 0, 1, 0, 1, 0, 0, 1, 0, 1],\n",
       "   [1, 0, 0, 1, 0, 1, 1, 1, 0, 0],\n",
       "   [1, 1, 1, 0, 0, 1, 0, 0, 0, 1],\n",
       "   [0, 1, 1, 0, 1, 1, 0, 1, 0, 1],\n",
       "   [0, 0, 0, 0, 0, 0, 0, 0, 0, 0],\n",
       "   [0, 0, 1, 0, 1, 0, 0, 0, 0, 0],\n",
       "   [1, 0, 1, 0, 0, 0, 1, 0, 1, 0],\n",
       "   [0, 1, 0, 0, 0, 1, 1, 0, 1, 0],\n",
       "   [1, 0, 0, 0, 1, 0, 0, 1, 0, 0],\n",
       "   [1, 0, 0, 0, 0, 1, 0, 0, 0, 0],\n",
       "   [1, 0, 0, 0, 0, 0, 1, 0, 0, 1],\n",
       "   [0, 1, 0, 0, 1, 0, 1, 1, 1, 0],\n",
       "   [0, 1, 0, 0, 0, 0, 0, 1, 1, 1],\n",
       "   [1, 0, 1, 1, 0, 0, 0, 0, 0, 0],\n",
       "   [0, 0, 0, 0, 0, 0, 0, 0, 0, 1],\n",
       "   [1, 1, 0, 1, 1, 0, 0, 0, 1, 1]],\n",
       "  'gen_nums': [0, 1, 2, 3, 4, 5, 6, 7, 8, 9, 10],\n",
       "  'best_sums': [6, 7, 7, 7, 7, 8, 8, 8, 9, 9, 10],\n",
       "  'best_arrs': [[1, 1, 0, 1, 1, 0, 0, 0, 1, 1],\n",
       "   [1, 1, 1, 1, 0, 1, 0, 0, 1, 1],\n",
       "   [1, 1, 1, 0, 0, 1, 0, 1, 1, 1],\n",
       "   [1, 0, 1, 0, 1, 1, 1, 0, 1, 1],\n",
       "   [1, 1, 1, 1, 0, 1, 0, 0, 1, 1],\n",
       "   [1, 1, 1, 1, 1, 1, 0, 0, 1, 1],\n",
       "   [1, 1, 1, 0, 1, 1, 1, 0, 1, 1],\n",
       "   [1, 1, 1, 0, 1, 1, 1, 0, 1, 1],\n",
       "   [1, 1, 1, 1, 1, 1, 1, 0, 1, 1],\n",
       "   [1, 1, 1, 1, 1, 1, 1, 0, 1, 1],\n",
       "   [1, 1, 1, 1, 1, 1, 1, 1, 1, 1]]},\n",
       " 'low_sel': {'init_pop': [[0, 0, 0, 0, 0, 0, 1, 0, 0, 0],\n",
       "   [0, 0, 1, 0, 0, 1, 0, 0, 1, 0],\n",
       "   [1, 0, 0, 1, 0, 1, 0, 0, 1, 0],\n",
       "   [0, 0, 0, 1, 0, 1, 0, 0, 0, 1],\n",
       "   [0, 1, 1, 0, 1, 1, 0, 0, 0, 1],\n",
       "   [1, 0, 0, 0, 0, 0, 1, 0, 0, 0],\n",
       "   [0, 0, 1, 0, 0, 1, 0, 0, 1, 0],\n",
       "   [1, 0, 0, 0, 1, 0, 0, 1, 0, 0],\n",
       "   [0, 0, 0, 0, 1, 0, 1, 0, 0, 1],\n",
       "   [0, 0, 0, 0, 0, 0, 0, 0, 0, 0],\n",
       "   [1, 1, 1, 0, 0, 0, 0, 1, 0, 0],\n",
       "   [0, 0, 1, 0, 0, 1, 1, 0, 1, 0],\n",
       "   [0, 0, 0, 1, 1, 1, 0, 1, 0, 0],\n",
       "   [1, 0, 0, 0, 0, 0, 0, 0, 0, 0],\n",
       "   [0, 1, 0, 0, 0, 0, 0, 0, 1, 1],\n",
       "   [1, 0, 0, 0, 0, 0, 0, 0, 0, 1],\n",
       "   [0, 0, 1, 0, 0, 0, 0, 0, 0, 1],\n",
       "   [0, 0, 0, 0, 0, 1, 1, 1, 1, 0],\n",
       "   [0, 0, 0, 0, 0, 0, 0, 0, 0, 0],\n",
       "   [0, 1, 1, 1, 0, 0, 0, 0, 0, 1]],\n",
       "  'gen_nums': [0, 1, 2, 3, 4, 5, 6, 7, 8, 9, 10, 11, 12, 13, 14, 15, 16],\n",
       "  'best_sums': [5, 5, 7, 8, 8, 9, 9, 9, 9, 9, 9, 9, 9, 9, 9, 9, 10],\n",
       "  'best_arrs': [[0, 1, 1, 0, 1, 1, 0, 0, 0, 1],\n",
       "   [0, 1, 1, 1, 0, 1, 0, 0, 0, 1],\n",
       "   [1, 0, 1, 1, 0, 1, 1, 1, 0, 1],\n",
       "   [1, 0, 1, 1, 1, 1, 1, 1, 0, 1],\n",
       "   [0, 1, 1, 1, 1, 1, 1, 1, 0, 1],\n",
       "   [1, 1, 1, 1, 1, 1, 1, 1, 0, 1],\n",
       "   [1, 1, 1, 1, 1, 1, 1, 1, 0, 1],\n",
       "   [1, 1, 1, 1, 1, 1, 1, 1, 0, 1],\n",
       "   [1, 1, 1, 1, 1, 1, 1, 1, 0, 1],\n",
       "   [1, 1, 1, 1, 1, 1, 1, 1, 0, 1],\n",
       "   [1, 1, 1, 1, 1, 1, 1, 1, 0, 1],\n",
       "   [1, 1, 1, 1, 1, 1, 1, 1, 0, 1],\n",
       "   [1, 1, 1, 1, 1, 1, 1, 1, 0, 1],\n",
       "   [1, 1, 1, 1, 1, 1, 1, 1, 0, 1],\n",
       "   [1, 1, 1, 1, 1, 1, 1, 1, 0, 1],\n",
       "   [1, 1, 1, 1, 1, 1, 1, 1, 0, 1],\n",
       "   [1, 1, 1, 1, 1, 1, 1, 1, 1, 1]]},\n",
       " 'low_pop': {'init_pop': [[1, 0, 0, 1, 1, 0, 0, 0, 0, 0],\n",
       "   [0, 0, 0, 0, 1, 0, 0, 0, 1, 0],\n",
       "   [0, 0, 0, 1, 0, 0, 0, 0, 0, 1]],\n",
       "  'gen_nums': [0,\n",
       "   1,\n",
       "   2,\n",
       "   3,\n",
       "   4,\n",
       "   5,\n",
       "   6,\n",
       "   7,\n",
       "   8,\n",
       "   9,\n",
       "   10,\n",
       "   11,\n",
       "   12,\n",
       "   13,\n",
       "   14,\n",
       "   15,\n",
       "   16,\n",
       "   17,\n",
       "   18,\n",
       "   19,\n",
       "   20,\n",
       "   21,\n",
       "   22],\n",
       "  'best_sums': [3,\n",
       "   4,\n",
       "   4,\n",
       "   5,\n",
       "   5,\n",
       "   5,\n",
       "   6,\n",
       "   6,\n",
       "   7,\n",
       "   7,\n",
       "   8,\n",
       "   8,\n",
       "   8,\n",
       "   8,\n",
       "   8,\n",
       "   8,\n",
       "   8,\n",
       "   8,\n",
       "   8,\n",
       "   8,\n",
       "   9,\n",
       "   9,\n",
       "   10],\n",
       "  'best_arrs': [[1, 0, 0, 1, 1, 0, 0, 0, 0, 0],\n",
       "   [0, 1, 0, 1, 1, 0, 1, 0, 0, 0],\n",
       "   [1, 0, 0, 1, 0, 0, 0, 1, 0, 1],\n",
       "   [1, 0, 0, 1, 1, 0, 0, 1, 0, 1],\n",
       "   [1, 0, 0, 1, 1, 0, 1, 0, 0, 1],\n",
       "   [1, 0, 0, 1, 1, 0, 1, 0, 0, 1],\n",
       "   [1, 0, 0, 1, 1, 0, 1, 1, 0, 1],\n",
       "   [1, 0, 0, 1, 1, 0, 1, 1, 0, 1],\n",
       "   [1, 0, 1, 1, 1, 0, 1, 1, 0, 1],\n",
       "   [1, 0, 1, 1, 1, 0, 1, 1, 0, 1],\n",
       "   [1, 0, 1, 1, 1, 1, 1, 1, 0, 1],\n",
       "   [1, 0, 1, 1, 1, 1, 1, 1, 0, 1],\n",
       "   [1, 0, 1, 1, 1, 1, 1, 1, 0, 1],\n",
       "   [1, 0, 1, 1, 1, 1, 1, 1, 0, 1],\n",
       "   [1, 0, 1, 1, 1, 1, 1, 1, 0, 1],\n",
       "   [1, 0, 1, 1, 1, 1, 1, 1, 0, 1],\n",
       "   [1, 0, 1, 1, 1, 1, 1, 1, 0, 1],\n",
       "   [1, 0, 1, 1, 1, 1, 1, 1, 0, 1],\n",
       "   [1, 0, 1, 1, 1, 1, 1, 1, 0, 1],\n",
       "   [1, 0, 1, 1, 1, 1, 1, 1, 0, 1],\n",
       "   [1, 0, 1, 1, 1, 1, 1, 1, 1, 1],\n",
       "   [1, 1, 1, 0, 1, 1, 1, 1, 1, 1],\n",
       "   [1, 1, 1, 1, 1, 1, 1, 1, 1, 1]]},\n",
       " 'mut': {'init_pop': [[0, 1, 0, 0, 0, 0, 0, 1, 0, 0],\n",
       "   [0, 0, 1, 0, 0, 0, 0, 1, 1, 1],\n",
       "   [0, 0, 0, 1, 1, 0, 0, 1, 0, 0],\n",
       "   [0, 0, 0, 0, 1, 0, 1, 0, 0, 1],\n",
       "   [0, 1, 1, 1, 1, 0, 1, 1, 1, 1],\n",
       "   [1, 0, 0, 1, 0, 0, 0, 1, 0, 0],\n",
       "   [0, 0, 0, 0, 0, 0, 0, 0, 0, 0],\n",
       "   [0, 0, 1, 1, 1, 0, 1, 0, 0, 1],\n",
       "   [1, 0, 0, 0, 0, 0, 0, 0, 0, 0],\n",
       "   [0, 0, 0, 0, 0, 0, 0, 0, 1, 0],\n",
       "   [0, 1, 1, 0, 0, 1, 1, 0, 0, 1],\n",
       "   [0, 1, 1, 0, 0, 0, 0, 0, 0, 0],\n",
       "   [0, 0, 0, 0, 1, 0, 0, 0, 0, 0],\n",
       "   [0, 1, 1, 1, 1, 1, 1, 0, 0, 0],\n",
       "   [0, 0, 0, 1, 0, 0, 0, 1, 0, 0],\n",
       "   [1, 0, 1, 0, 0, 0, 0, 0, 1, 0],\n",
       "   [0, 0, 1, 1, 0, 0, 0, 0, 0, 0],\n",
       "   [0, 0, 0, 0, 0, 1, 1, 1, 0, 1],\n",
       "   [0, 0, 1, 0, 0, 1, 0, 0, 1, 1],\n",
       "   [0, 0, 1, 0, 0, 0, 0, 0, 0, 0]],\n",
       "  'gen_nums': [0, 1, 2, 3, 4, 5, 6, 7, 8, 9, 10, 11, 12, 13],\n",
       "  'best_sums': [8, 6, 6, 8, 8, 8, 8, 9, 9, 9, 9, 9, 9, 10],\n",
       "  'best_arrs': [[0, 1, 1, 1, 1, 0, 1, 1, 1, 1],\n",
       "   [0, 0, 1, 0, 1, 0, 1, 1, 1, 1],\n",
       "   [0, 0, 1, 1, 1, 1, 0, 1, 0, 1],\n",
       "   [0, 1, 1, 1, 1, 1, 0, 1, 1, 1],\n",
       "   [0, 1, 1, 1, 1, 1, 0, 1, 1, 1],\n",
       "   [0, 0, 1, 1, 1, 1, 1, 1, 1, 1],\n",
       "   [0, 0, 1, 1, 1, 1, 1, 1, 1, 1],\n",
       "   [0, 1, 1, 1, 1, 1, 1, 1, 1, 1],\n",
       "   [0, 1, 1, 1, 1, 1, 1, 1, 1, 1],\n",
       "   [0, 1, 1, 1, 1, 1, 1, 1, 1, 1],\n",
       "   [0, 1, 1, 1, 1, 1, 1, 1, 1, 1],\n",
       "   [1, 1, 1, 1, 1, 1, 0, 1, 1, 1],\n",
       "   [1, 1, 1, 1, 1, 1, 0, 1, 1, 1],\n",
       "   [1, 1, 1, 1, 1, 1, 1, 1, 1, 1]]}}"
      ]
     },
     "execution_count": 60,
     "metadata": {},
     "output_type": "execute_result"
    }
   ],
   "source": [
    "obj"
   ]
  },
  {
   "cell_type": "code",
   "execution_count": 61,
   "id": "74277975",
   "metadata": {},
   "outputs": [],
   "source": [
    "with open('bits.json', 'w') as file:\n",
    "    json.dump(obj, file)"
   ]
  },
  {
   "cell_type": "code",
   "execution_count": null,
   "id": "7714feff",
   "metadata": {},
   "outputs": [],
   "source": []
  },
  {
   "cell_type": "code",
   "execution_count": null,
   "id": "4a18769e",
   "metadata": {},
   "outputs": [],
   "source": []
  },
  {
   "cell_type": "code",
   "execution_count": 13,
   "id": "431ffc80",
   "metadata": {},
   "outputs": [
    {
     "data": {
      "text/plain": [
       "array([[0, 0, 0, 0, 0, 0, 0, 0, 0, 0, 0, 0],\n",
       "       [0, 0, 0, 0, 0, 0, 0, 0, 0, 0, 0, 0],\n",
       "       [0, 0, 0, 0, 0, 0, 0, 0, 0, 0, 0, 0],\n",
       "       [0, 0, 0, 0, 0, 0, 0, 0, 0, 0, 0, 0],\n",
       "       [0, 0, 0, 0, 0, 0, 0, 0, 0, 0, 0, 0],\n",
       "       [0, 0, 0, 0, 0, 0, 0, 0, 0, 0, 0, 0],\n",
       "       [0, 0, 0, 0, 0, 0, 0, 0, 0, 0, 0, 0],\n",
       "       [0, 0, 0, 0, 0, 0, 0, 0, 0, 0, 0, 0],\n",
       "       [0, 0, 0, 0, 0, 0, 0, 0, 0, 0, 0, 0],\n",
       "       [0, 0, 0, 0, 0, 0, 0, 0, 0, 0, 0, 0],\n",
       "       [0, 0, 0, 0, 0, 0, 0, 0, 0, 0, 0, 0],\n",
       "       [0, 0, 0, 0, 0, 0, 0, 0, 0, 0, 0, 0]])"
      ]
     },
     "execution_count": 13,
     "metadata": {},
     "output_type": "execute_result"
    }
   ],
   "source": [
    "# create canvas: array of booleans with padding\n",
    "canvas_shape = (10, 10)\n",
    "canvas = np.zeros((canvas_shape[0]+2, canvas_shape[1]+2), dtype=int)\n",
    "canvas"
   ]
  },
  {
   "cell_type": "code",
   "execution_count": 10,
   "id": "02a5887f",
   "metadata": {},
   "outputs": [
    {
     "data": {
      "text/plain": [
       "array([[1, 1, 1, 1, 1, 1, 1, 1, 1, 1, 1, 1],\n",
       "       [1, 0, 0, 0, 0, 0, 0, 0, 0, 0, 0, 1],\n",
       "       [1, 0, 0, 0, 0, 0, 0, 0, 0, 0, 0, 1],\n",
       "       [1, 0, 0, 0, 0, 0, 0, 0, 0, 0, 0, 1],\n",
       "       [1, 0, 0, 0, 0, 0, 0, 0, 0, 0, 0, 1],\n",
       "       [1, 0, 0, 0, 0, 0, 0, 0, 0, 0, 0, 1],\n",
       "       [1, 0, 0, 0, 0, 0, 0, 0, 0, 0, 0, 1],\n",
       "       [1, 0, 0, 0, 0, 0, 0, 0, 0, 0, 0, 1],\n",
       "       [1, 0, 0, 0, 0, 0, 0, 0, 0, 0, 0, 1],\n",
       "       [1, 0, 0, 0, 0, 0, 0, 0, 0, 0, 0, 1],\n",
       "       [1, 0, 0, 0, 0, 0, 0, 0, 0, 0, 0, 1],\n",
       "       [1, 1, 1, 1, 1, 1, 1, 1, 1, 1, 1, 1]])"
      ]
     },
     "execution_count": 10,
     "metadata": {},
     "output_type": "execute_result"
    }
   ],
   "source": [
    "# add padding\n",
    "canvas[0] = 1\n",
    "canvas[:, 0] = 1\n",
    "canvas[-1] = 1\n",
    "canvas[:, -1] = 1\n",
    "canvas"
   ]
  },
  {
   "cell_type": "code",
   "execution_count": 11,
   "id": "8efeeff6",
   "metadata": {},
   "outputs": [
    {
     "data": {
      "text/plain": [
       "array([[1, 1, 1, 1, 1, 1, 1, 1, 1, 1, 1, 1],\n",
       "       [1, 0, 0, 0, 0, 0, 0, 0, 0, 0, 0, 1],\n",
       "       [1, 0, 0, 0, 0, 0, 0, 0, 0, 0, 0, 1],\n",
       "       [1, 0, 0, 1, 1, 1, 1, 1, 1, 0, 0, 1],\n",
       "       [1, 0, 0, 1, 1, 1, 1, 1, 1, 0, 0, 1],\n",
       "       [1, 0, 0, 1, 1, 1, 1, 1, 1, 0, 0, 1],\n",
       "       [1, 0, 0, 1, 1, 1, 1, 1, 1, 0, 0, 1],\n",
       "       [1, 0, 0, 1, 1, 1, 1, 1, 1, 0, 0, 1],\n",
       "       [1, 0, 0, 1, 1, 1, 1, 1, 1, 0, 0, 1],\n",
       "       [1, 0, 0, 0, 0, 0, 0, 0, 0, 0, 0, 1],\n",
       "       [1, 0, 0, 0, 0, 0, 0, 0, 0, 0, 0, 1],\n",
       "       [1, 1, 1, 1, 1, 1, 1, 1, 1, 1, 1, 1]])"
      ]
     },
     "execution_count": 11,
     "metadata": {},
     "output_type": "execute_result"
    }
   ],
   "source": [
    "# add obstacle: 8x8 box in the middle\n",
    "canvas[3:-3, 3:-3] = 1\n",
    "# canvas[10, 1] = 2\n",
    "canvas"
   ]
  },
  {
   "cell_type": "code",
   "execution_count": 12,
   "id": "83697e0e",
   "metadata": {},
   "outputs": [],
   "source": [
    "# use agent class\n",
    "pos = (10, 1)\n",
    " "
   ]
  },
  {
   "cell_type": "code",
   "execution_count": 13,
   "id": "d3aebc9d",
   "metadata": {},
   "outputs": [
    {
     "data": {
      "text/plain": [
       "0"
      ]
     },
     "execution_count": 13,
     "metadata": {},
     "output_type": "execute_result"
    }
   ],
   "source": [
    "from RNN import RNN\n",
    "rnn = RNN(11, 4, 20)\n",
    "l = [rnn]\n",
    "e = l[0]\n",
    "e.U = 0\n",
    "l[0].U"
   ]
  },
  {
   "cell_type": "code",
   "execution_count": 39,
   "id": "da7d8f6e",
   "metadata": {},
   "outputs": [
    {
     "data": {
      "image/png": "[encoded data removed]",
      "text/plain": [
       "<Figure size 432x288 with 1 Axes>"
      ]
     },
     "metadata": {
      "needs_background": "light"
     },
     "output_type": "display_data"
    }
   ],
   "source": [
    "import matplotlib.pyplot as plt\n",
    "import matplotlib.animation as animation\n",
    "fig = plt.figure()\n",
    "arr = np.zeros((5, 5, 3))\n",
    "arr[:, :, 1] = 1\n",
    "plt.scatter([0, 3], [0, 3])\n",
    "im = plt.imshow(arr)"
   ]
  },
  {
   "cell_type": "code",
   "execution_count": 33,
   "id": "1fab5c2e",
   "metadata": {},
   "outputs": [
    {
     "data": {
      "text/plain": [
       "array([[[0., 1., 0.],\n",
       "        [0., 1., 0.],\n",
       "        [0., 1., 0.],\n",
       "        [0., 1., 0.],\n",
       "        [0., 1., 0.]],\n",
       "\n",
       "       [[0., 1., 0.],\n",
       "        [0., 1., 0.],\n",
       "        [0., 1., 0.],\n",
       "        [0., 1., 0.],\n",
       "        [0., 1., 0.]],\n",
       "\n",
       "       [[0., 1., 0.],\n",
       "        [0., 1., 0.],\n",
       "        [0., 1., 0.],\n",
       "        [0., 1., 0.],\n",
       "        [0., 1., 0.]],\n",
       "\n",
       "       [[0., 1., 0.],\n",
       "        [0., 1., 0.],\n",
       "        [0., 1., 0.],\n",
       "        [0., 1., 0.],\n",
       "        [0., 1., 0.]],\n",
       "\n",
       "       [[0., 1., 0.],\n",
       "        [0., 1., 0.],\n",
       "        [0., 1., 0.],\n",
       "        [0., 1., 0.],\n",
       "        [0., 1., 0.]]])"
      ]
     },
     "execution_count": 33,
     "metadata": {},
     "output_type": "execute_result"
    }
   ],
   "source": [
    "arr"
   ]
  },
  {
   "cell_type": "code",
   "execution_count": 25,
   "id": "cd16e7e7",
   "metadata": {},
   "outputs": [],
   "source": [
    "?plt.imshow"
   ]
  },
  {
   "cell_type": "code",
   "execution_count": 42,
   "id": "1466661a",
   "metadata": {},
   "outputs": [
    {
     "data": {
      "text/plain": [
       "[[1, 2, 3], [4, 5]]"
      ]
     },
     "execution_count": 42,
     "metadata": {},
     "output_type": "execute_result"
    }
   ],
   "source": [
    "l = [1, 2, 3]\n",
    "l2 = []\n",
    "l2.append(l)\n",
    "l2.append([4, 5])\n",
    "l2"
   ]
  },
  {
   "cell_type": "code",
   "execution_count": 48,
   "id": "43823b1f",
   "metadata": {},
   "outputs": [],
   "source": [
    "?animation.FuncAnimation.save"
   ]
  },
  {
   "cell_type": "code",
   "execution_count": 50,
   "id": "4c665557",
   "metadata": {},
   "outputs": [
    {
     "name": "stdout",
     "output_type": "stream",
     "text": [
      "[1 1 0 1 1 0]\n",
      "\n",
      "[1 0 1 0 1 1]\n"
     ]
    }
   ],
   "source": [
    "print(np.array([1, 1, 0, 1, 1, 0]))\n",
    "print('')\n",
    "print(np.array([1, 0, 1, 0, 1, 1]))\n"
   ]
  },
  {
   "cell_type": "code",
   "execution_count": 55,
   "id": "9a954a02",
   "metadata": {},
   "outputs": [
    {
     "name": "stdout",
     "output_type": "stream",
     "text": [
      "[1 0 1 1 1 1]\n",
      "\n",
      "[1 1 0 0 1 0]\n"
     ]
    }
   ],
   "source": [
    "print(np.array([1, 0, 1, 1, 1, 1]))\n",
    "print('')\n",
    "print(np.array([1, 1, 0, 0, 1, 0]))"
   ]
  },
  {
   "cell_type": "code",
   "execution_count": null,
   "id": "2e9c5cb7",
   "metadata": {},
   "outputs": [],
   "source": []
  }
 ],
 "metadata": {
  "kernelspec": {
   "display_name": "Python 3 (ipykernel)",
   "language": "python",
   "name": "python3"
  },
  "language_info": {
   "codemirror_mode": {
    "name": "ipython",
    "version": 3
   },
   "file_extension": ".py",
   "mimetype": "text/x-python",
   "name": "python",
   "nbconvert_exporter": "python",
   "pygments_lexer": "ipython3",
   "version": "3.9.7"
  }
 },
 "nbformat": 4,
 "nbformat_minor": 5
}
